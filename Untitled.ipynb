{
 "cells": [
  {
   "cell_type": "code",
   "execution_count": 1,
   "id": "1d7ab6cd",
   "metadata": {},
   "outputs": [
    {
     "name": "stderr",
     "output_type": "stream",
     "text": [
      "/home/rtcl/anaconda3/envs/PartitionedRT/lib/python3.8/site-packages/tqdm/auto.py:22: TqdmWarning: IProgress not found. Please update jupyter and ipywidgets. See https://ipywidgets.readthedocs.io/en/stable/user_install.html\n",
      "  from .autonotebook import tqdm as notebook_tqdm\n"
     ]
    }
   ],
   "source": [
    "from genset import GenSet\n",
    "from process_data import Procdata\n",
    "from GCN import Net\n",
    "from genmask import GenMask"
   ]
  },
  {
   "cell_type": "markdown",
   "id": "5da2818a",
   "metadata": {},
   "source": [
    "RBF"
   ]
  },
  {
   "cell_type": "code",
   "execution_count": 7,
   "id": "08836263",
   "metadata": {},
   "outputs": [
    {
     "name": "stdout",
     "output_type": "stream",
     "text": [
      "[[3, 1], [7, 5], [18, 12], [30, 8], [35, 10], [36, 8], [55, 32], [59, 53], [69, 7], [81, 2], [82, 53], [84, 42], [89, 55], [90, 78], [98, 6]]\n"
     ]
    }
   ],
   "source": [
    "numtasks = 15\n",
    "num_processor = 5\n",
    "MAX_period = 100\n",
    "\n",
    "generate_tasks = GenSet()\n",
    "procdata = Procdata()\n",
    "generate_mask = GenMask()\n",
    "\n",
    "\n",
    "taskset = generate_tasks.makeTC(numtasks, MAX_period)\n",
    "RM_taskset = generate_tasks.rate_monotonic(taskset)\n",
    "\n",
    "print(RM_taskset)"
   ]
  },
  {
   "cell_type": "code",
   "execution_count": 76,
   "id": "1fc17753",
   "metadata": {},
   "outputs": [],
   "source": [
    "def RBF(task, t):\n",
    "    result = task[1] + (task[1]/task[0]) * t\n",
    "    return result\n",
    "    "
   ]
  },
  {
   "cell_type": "code",
   "execution_count": 77,
   "id": "f086baa5",
   "metadata": {},
   "outputs": [
    {
     "name": "stdout",
     "output_type": "stream",
     "text": [
      "[[], [], [], [], [], [], [], [], [], []]\n",
      "10\n",
      "14\n",
      "[[[5, 3], [77, 24]], [[11, 8]], [[21, 19]], [[23, 3], [78, 14], [86, 19]], [[49, 24]], [[52, 18]], [[52, 1], [78, 57]], [[57, 51]], [[60, 53]], [[60, 49]]]\n"
     ]
    }
   ],
   "source": [
    "task = RM_taskset\n",
    "numproc = num_processor\n",
    "\n",
    "bin_pack = [[] for i in range(numproc)]\n",
    "print(bin_pack)\n",
    "print(len(bin_pack))\n",
    "unschedulable = False\n",
    "cnt_assigned = 0\n",
    "for i in range(len(task)):\n",
    "    go_to_next_task = False\n",
    "    for j in range(numproc):\n",
    "        if len(bin_pack[j]) == 0:\n",
    "            bin_pack[j].append(task[i])\n",
    "            cnt_assigned += 1\n",
    "            go_to_next_task = True\n",
    "            break\n",
    "    if go_to_next_task:\n",
    "        continue\n",
    "        \n",
    "            \n",
    "    for j in range(numproc):\n",
    "        sum_RBF = 0\n",
    "        sum_util = 0\n",
    "        for in_numproc in range(len(bin_pack[j])):\n",
    "            sum_RBF += RBF(bin_pack[j][in_numproc],task[i][0])\n",
    "            sum_util += (bin_pack[j][in_numproc][1]/bin_pack[j][in_numproc][0])\n",
    "        if(((task[i][0] - sum_RBF) >= task[i][1]) and ((1-sum_util)>= (task[i][1]/task[i][0]))):\n",
    "            bin_pack[j].append(task[i])\n",
    "            cnt_assigned += 1\n",
    "            break\n",
    "            \n",
    "print(cnt_assigned)\n",
    "            \n",
    "if cnt_assigned < len(task):\n",
    "    unschedulable = True\n",
    "    #if unschedulable == True:\n",
    "        #return bin_pack, unschedulable\n",
    "\n",
    "#return bin_pack, unschedulable\n",
    "                \n",
    "print(bin_pack)"
   ]
  },
  {
   "cell_type": "markdown",
   "id": "d5afdc5b",
   "metadata": {},
   "source": [
    "RTA"
   ]
  },
  {
   "cell_type": "code",
   "execution_count": 13,
   "id": "441b67af",
   "metadata": {},
   "outputs": [
    {
     "name": "stdout",
     "output_type": "stream",
     "text": [
      "[[2, 1], [3, 1], [16, 10], [19, 18], [21, 20], [22, 12], [23, 1], [42, 14], [48, 46], [56, 37], [66, 51], [76, 68], [80, 19], [94, 79], [99, 23]]\n"
     ]
    }
   ],
   "source": [
    "numtasks = 15\n",
    "num_processor = 5\n",
    "MAX_period = 100\n",
    "\n",
    "generate_tasks = GenSet()\n",
    "procdata = Procdata()\n",
    "generate_mask = GenMask()\n",
    "\n",
    "\n",
    "taskset = generate_tasks.makeTC(numtasks, MAX_period)\n",
    "RM_taskset = generate_tasks.rate_monotonic(taskset)\n",
    "\n",
    "print(RM_taskset)"
   ]
  },
  {
   "cell_type": "code",
   "execution_count": 14,
   "id": "aeb3e2c4",
   "metadata": {},
   "outputs": [
    {
     "name": "stdout",
     "output_type": "stream",
     "text": [
      "[4, 1, 1, 3, 1, 0, 2, 1, 2, 1, 1, 0, 1, 1, 1]\n"
     ]
    }
   ],
   "source": [
    "import random\n",
    "taskorder = []\n",
    "for i in range(numtasks):\n",
    "    n = random.randint(0,4)\n",
    "    taskorder.append(n)\n",
    "    \n",
    "print(taskorder)"
   ]
  },
  {
   "cell_type": "code",
   "execution_count": 29,
   "id": "57e8f3df",
   "metadata": {},
   "outputs": [
    {
     "name": "stdout",
     "output_type": "stream",
     "text": [
      "[[[22, 12], [76, 68]], [[3, 1], [16, 10], [21, 20], [42, 14], [56, 37], [66, 51], [80, 19], [94, 79], [99, 23]], [[23, 1], [48, 46]], [[19, 18]], [[2, 1]]]\n",
      "2\n",
      "68\n",
      "116 80\n",
      "9\n",
      "23\n",
      "1328 254\n",
      "2\n",
      "46\n",
      "49 47\n",
      "1\n",
      "18\n",
      "18 18\n",
      "18 18\n",
      "1\n",
      "1\n",
      "1 1\n",
      "1 1\n",
      "True\n"
     ]
    }
   ],
   "source": [
    "import math\n",
    "\n",
    "bin_pack = [[] for i in range(num_processor)]\n",
    "\n",
    "for i in range(numtasks):\n",
    "    bin_pack[taskorder[i]].append(RM_taskset[i])\n",
    "    \n",
    "print(bin_pack)\n",
    "\n",
    "unschedulable = False\n",
    "\n",
    "for i in range(num_processor):\n",
    "    a, a_past = 0, -1\n",
    "    print(len(bin_pack[i]))\n",
    "    while a != a_past:\n",
    "        cal_a = 0\n",
    "        if a == 0:\n",
    "            for j in range(len(bin_pack[i])):\n",
    "                a += bin_pack[i][j][1]\n",
    "        cal_a = bin_pack[i][len(bin_pack[i])-1][1]\n",
    "        print(cal_a)\n",
    "        for j in range(len(bin_pack[i])-1):\n",
    "            cal_a += math.ceil(a/bin_pack[i][j][0])*bin_pack[i][j][1]\n",
    "        a_past = a\n",
    "        a = cal_a\n",
    "        print(a, a_past)\n",
    "        if (a > bin_pack[i][len(bin_pack[i])-1][0]):\n",
    "            unschedulable = True\n",
    "            break\n",
    "        print(a, a_past)\n",
    "\n",
    "print(unschedulable)"
   ]
  },
  {
   "cell_type": "code",
   "execution_count": null,
   "id": "276ee335",
   "metadata": {},
   "outputs": [],
   "source": []
  }
 ],
 "metadata": {
  "kernelspec": {
   "display_name": "PartitionedRT",
   "language": "python",
   "name": "partitionedrt"
  },
  "language_info": {
   "codemirror_mode": {
    "name": "ipython",
    "version": 3
   },
   "file_extension": ".py",
   "mimetype": "text/x-python",
   "name": "python",
   "nbconvert_exporter": "python",
   "pygments_lexer": "ipython3",
   "version": "3.8.13"
  }
 },
 "nbformat": 4,
 "nbformat_minor": 5
}
